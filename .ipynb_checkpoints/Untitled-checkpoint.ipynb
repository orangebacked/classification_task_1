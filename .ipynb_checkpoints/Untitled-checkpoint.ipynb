{
 "cells": [
  {
   "cell_type": "code",
   "execution_count": 7,
   "id": "1d385cd2-46fd-4352-9315-31a573739f8f",
   "metadata": {},
   "outputs": [],
   "source": [
    "import pandas as pd\n",
    "import json"
   ]
  },
  {
   "cell_type": "code",
   "execution_count": 8,
   "id": "d751fb84-3319-46ad-a675-d73d28a53fd8",
   "metadata": {},
   "outputs": [],
   "source": [
    "def build_dataset():\n",
    "    data = [json.loads(x) for x in open(\"MLA_100k.jsonlines\")]\n",
    "    target = lambda x: x.get(\"condition\")\n",
    "    N = -10000\n",
    "    X_train = data[:N]\n",
    "    X_test = data[N:]\n",
    "    y_train = [target(x) for x in X_train]\n",
    "    y_test = [target(x) for x in X_test]\n",
    "    for x in X_test:\n",
    "        del x[\"condition\"]\n",
    "    return X_train, y_train, X_test, y_test"
   ]
  },
  {
   "cell_type": "code",
   "execution_count": 9,
   "id": "3318e795-4d51-4580-965a-b797c15098d0",
   "metadata": {},
   "outputs": [],
   "source": [
    "X_train, y_train, X_test, y_test = build_dataset()"
   ]
  },
  {
   "cell_type": "code",
   "execution_count": 10,
   "id": "384da121-3e52-4751-9021-26d26f860919",
   "metadata": {},
   "outputs": [],
   "source": [
    "s__ = X_train[1]"
   ]
  },
  {
   "cell_type": "code",
   "execution_count": 11,
   "id": "0db476dc-e853-4e97-bd2d-8a26746974ce",
   "metadata": {},
   "outputs": [
    {
     "name": "stdout",
     "output_type": "stream",
     "text": [
      "{'seller_address': {'comment': '', 'longitude': -58.5059173, 'id': 105272448, 'country': {'name': 'Argentina', 'id': 'AR'}, 'address_line': '', 'latitude': -34.5935524, 'search_location': {'neighborhood': {'name': 'Villa Devoto', 'id': 'TUxBQlZJTDYzNzZa'}, 'state': {'name': 'Capital Federal', 'id': 'TUxBUENBUGw3M2E1'}, 'city': {'name': 'Capital Federal', 'id': 'TUxBQ0NBUGZlZG1sYQ'}}, 'zip_code': '', 'city': {'name': 'Buenos Aires', 'id': ''}, 'state': {'name': 'Capital Federal', 'id': 'AR-C'}}, 'warranty': 'NUESTRA REPUTACION', 'sub_status': [], 'condition': 'used', 'seller_contact': None, 'deal_ids': [], 'base_price': 2650, 'shipping': {'local_pick_up': True, 'methods': [], 'tags': [], 'free_shipping': False, 'mode': 'me2', 'dimensions': None}, 'non_mercado_pago_payment_methods': [{'description': 'Transferencia bancaria', 'id': 'MLATB', 'type': 'G'}, {'description': 'Efectivo', 'id': 'MLAMO', 'type': 'G'}], 'seller_id': 42093335, 'variations': [], 'location': {}, 'site_id': 'MLA', 'listing_type_id': 'silver', 'price': 2650, 'attributes': [], 'buying_mode': 'buy_it_now', 'tags': [], 'listing_source': '', 'parent_item_id': 'MLA561574487', 'coverage_areas': [], 'category_id': 'MLA10267', 'descriptions': [{'id': 'MLA581565358-930764806'}], 'last_updated': '2015-09-26T18:08:34.000Z', 'international_delivery_mode': 'none', 'pictures': [{'size': '499x334', 'secure_url': 'https://a248.e.akamai.net/mla-s1-p.mlstatic.com/23223-MLA20245018984_022015-O.jpg', 'max_size': '951x637', 'url': 'http://mla-s1-p.mlstatic.com/23223-MLA20245018984_022015-O.jpg', 'quality': '', 'id': '23223-MLA20245018984_022015'}, {'size': '500x375', 'secure_url': 'https://a248.e.akamai.net/mla-s2-p.mlstatic.com/23273-MLA20245018989_022015-O.jpg', 'max_size': '1024x768', 'url': 'http://mla-s2-p.mlstatic.com/23273-MLA20245018989_022015-O.jpg', 'quality': '', 'id': '23273-MLA20245018989_022015'}, {'size': '500x375', 'secure_url': 'https://a248.e.akamai.net/mla-s1-p.mlstatic.com/23205-MLA20245019615_022015-O.jpg', 'max_size': '1024x768', 'url': 'http://mla-s1-p.mlstatic.com/23205-MLA20245019615_022015-O.jpg', 'quality': '', 'id': '23205-MLA20245019615_022015'}, {'size': '500x375', 'secure_url': 'https://a248.e.akamai.net/mla-s2-p.mlstatic.com/23289-MLA20245019311_022015-O.jpg', 'max_size': '1024x768', 'url': 'http://mla-s2-p.mlstatic.com/23289-MLA20245019311_022015-O.jpg', 'quality': '', 'id': '23289-MLA20245019311_022015'}, {'size': '500x375', 'secure_url': 'https://a248.e.akamai.net/mla-s1-p.mlstatic.com/23220-MLA20245019314_022015-O.jpg', 'max_size': '1024x768', 'url': 'http://mla-s1-p.mlstatic.com/23220-MLA20245019314_022015-O.jpg', 'quality': '', 'id': '23220-MLA20245019314_022015'}, {'size': '500x326', 'secure_url': 'https://a248.e.akamai.net/mla-s1-p.mlstatic.com/23201-MLA20245019316_022015-O.jpg', 'max_size': '924x603', 'url': 'http://mla-s1-p.mlstatic.com/23201-MLA20245019316_022015-O.jpg', 'quality': '', 'id': '23201-MLA20245019316_022015'}], 'id': 'MLA581565358', 'official_store_id': None, 'differential_pricing': None, 'accepts_mercadopago': True, 'original_price': None, 'currency_id': 'ARS', 'thumbnail': 'http://mla-s1-p.mlstatic.com/23223-MLA20245018984_022015-I.jpg', 'title': 'Cuchillo Daga Acero Carbón Casco Yelmo Solingen Con Vaina', 'automatic_relist': False, 'date_created': '2015-09-26T18:08:30.000Z', 'secure_thumbnail': 'https://a248.e.akamai.net/mla-s1-p.mlstatic.com/23223-MLA20245018984_022015-I.jpg', 'stop_time': '2015-11-25T18:08:30.000Z', 'status': 'active', 'video_id': None, 'catalog_product_id': None, 'subtitle': None, 'initial_quantity': 1, 'start_time': '2015-09-26T18:08:30.000Z', 'permalink': 'http://articulo.mercadolibre.com.ar/MLA-581565358-cuchillo-daga-acero-carbon-casco-yelmo-solingen-con-vaina-_JM', 'geolocation': {'latitude': -34.5935524, 'longitude': -58.5059173}, 'sold_quantity': 0, 'available_quantity': 1}\n"
     ]
    }
   ],
   "source": [
    "print(s__)"
   ]
  },
  {
   "cell_type": "code",
   "execution_count": 12,
   "id": "4f246a35-15a9-4918-ba8d-a028efc1d2b2",
   "metadata": {},
   "outputs": [
    {
     "data": {
      "text/plain": [
       "'{\"seller_address\": {\"comment\": \"\", \"longitude\": -58.5059173, \"id\": 105272448, \"country\": {\"name\": \"Argentina\", \"id\": \"AR\"}, \"address_line\": \"\", \"latitude\": -34.5935524, \"search_location\": {\"neighborhood\": {\"name\": \"Villa Devoto\", \"id\": \"TUxBQlZJTDYzNzZa\"}, \"state\": {\"name\": \"Capital Federal\", \"id\": \"TUxBUENBUGw3M2E1\"}, \"city\": {\"name\": \"Capital Federal\", \"id\": \"TUxBQ0NBUGZlZG1sYQ\"}}, \"zip_code\": \"\", \"city\": {\"name\": \"Buenos Aires\", \"id\": \"\"}, \"state\": {\"name\": \"Capital Federal\", \"id\": \"AR-C\"}}, \"warranty\": \"NUESTRA REPUTACION\", \"sub_status\": [], \"condition\": \"used\", \"seller_contact\": null, \"deal_ids\": [], \"base_price\": 2650, \"shipping\": {\"local_pick_up\": true, \"methods\": [], \"tags\": [], \"free_shipping\": false, \"mode\": \"me2\", \"dimensions\": null}, \"non_mercado_pago_payment_methods\": [{\"description\": \"Transferencia bancaria\", \"id\": \"MLATB\", \"type\": \"G\"}, {\"description\": \"Efectivo\", \"id\": \"MLAMO\", \"type\": \"G\"}], \"seller_id\": 42093335, \"variations\": [], \"location\": {}, \"site_id\": \"MLA\", \"listing_type_id\": \"silver\", \"price\": 2650, \"attributes\": [], \"buying_mode\": \"buy_it_now\", \"tags\": [], \"listing_source\": \"\", \"parent_item_id\": \"MLA561574487\", \"coverage_areas\": [], \"category_id\": \"MLA10267\", \"descriptions\": [{\"id\": \"MLA581565358-930764806\"}], \"last_updated\": \"2015-09-26T18:08:34.000Z\", \"international_delivery_mode\": \"none\", \"pictures\": [{\"size\": \"499x334\", \"secure_url\": \"https://a248.e.akamai.net/mla-s1-p.mlstatic.com/23223-MLA20245018984_022015-O.jpg\", \"max_size\": \"951x637\", \"url\": \"http://mla-s1-p.mlstatic.com/23223-MLA20245018984_022015-O.jpg\", \"quality\": \"\", \"id\": \"23223-MLA20245018984_022015\"}, {\"size\": \"500x375\", \"secure_url\": \"https://a248.e.akamai.net/mla-s2-p.mlstatic.com/23273-MLA20245018989_022015-O.jpg\", \"max_size\": \"1024x768\", \"url\": \"http://mla-s2-p.mlstatic.com/23273-MLA20245018989_022015-O.jpg\", \"quality\": \"\", \"id\": \"23273-MLA20245018989_022015\"}, {\"size\": \"500x375\", \"secure_url\": \"https://a248.e.akamai.net/mla-s1-p.mlstatic.com/23205-MLA20245019615_022015-O.jpg\", \"max_size\": \"1024x768\", \"url\": \"http://mla-s1-p.mlstatic.com/23205-MLA20245019615_022015-O.jpg\", \"quality\": \"\", \"id\": \"23205-MLA20245019615_022015\"}, {\"size\": \"500x375\", \"secure_url\": \"https://a248.e.akamai.net/mla-s2-p.mlstatic.com/23289-MLA20245019311_022015-O.jpg\", \"max_size\": \"1024x768\", \"url\": \"http://mla-s2-p.mlstatic.com/23289-MLA20245019311_022015-O.jpg\", \"quality\": \"\", \"id\": \"23289-MLA20245019311_022015\"}, {\"size\": \"500x375\", \"secure_url\": \"https://a248.e.akamai.net/mla-s1-p.mlstatic.com/23220-MLA20245019314_022015-O.jpg\", \"max_size\": \"1024x768\", \"url\": \"http://mla-s1-p.mlstatic.com/23220-MLA20245019314_022015-O.jpg\", \"quality\": \"\", \"id\": \"23220-MLA20245019314_022015\"}, {\"size\": \"500x326\", \"secure_url\": \"https://a248.e.akamai.net/mla-s1-p.mlstatic.com/23201-MLA20245019316_022015-O.jpg\", \"max_size\": \"924x603\", \"url\": \"http://mla-s1-p.mlstatic.com/23201-MLA20245019316_022015-O.jpg\", \"quality\": \"\", \"id\": \"23201-MLA20245019316_022015\"}], \"id\": \"MLA581565358\", \"official_store_id\": null, \"differential_pricing\": null, \"accepts_mercadopago\": true, \"original_price\": null, \"currency_id\": \"ARS\", \"thumbnail\": \"http://mla-s1-p.mlstatic.com/23223-MLA20245018984_022015-I.jpg\", \"title\": \"Cuchillo Daga Acero Carb\\\\u00f3n Casco Yelmo Solingen Con Vaina\", \"automatic_relist\": false, \"date_created\": \"2015-09-26T18:08:30.000Z\", \"secure_thumbnail\": \"https://a248.e.akamai.net/mla-s1-p.mlstatic.com/23223-MLA20245018984_022015-I.jpg\", \"stop_time\": \"2015-11-25T18:08:30.000Z\", \"status\": \"active\", \"video_id\": null, \"catalog_product_id\": null, \"subtitle\": null, \"initial_quantity\": 1, \"start_time\": \"2015-09-26T18:08:30.000Z\", \"permalink\": \"http://articulo.mercadolibre.com.ar/MLA-581565358-cuchillo-daga-acero-carbon-casco-yelmo-solingen-con-vaina-_JM\", \"geolocation\": {\"latitude\": -34.5935524, \"longitude\": -58.5059173}, \"sold_quantity\": 0, \"available_quantity\": 1}'"
      ]
     },
     "execution_count": 12,
     "metadata": {},
     "output_type": "execute_result"
    }
   ],
   "source": [
    "json.dumps(s__)"
   ]
  },
  {
   "cell_type": "code",
   "execution_count": 13,
   "id": "a7f9ede5-b9f0-4db8-8cad-df7e17b2482d",
   "metadata": {},
   "outputs": [
    {
     "data": {
      "text/plain": [
       "0"
      ]
     },
     "execution_count": 13,
     "metadata": {},
     "output_type": "execute_result"
    }
   ],
   "source": [
    "s__[\"sold_quantity\"]"
   ]
  },
  {
   "cell_type": "code",
   "execution_count": 14,
   "id": "8d80a2ca-d63b-44fc-8f91-da8ddc0b3001",
   "metadata": {},
   "outputs": [
    {
     "data": {
      "text/plain": [
       "{'latitude': -34.5935524, 'longitude': -58.5059173}"
      ]
     },
     "execution_count": 14,
     "metadata": {},
     "output_type": "execute_result"
    }
   ],
   "source": [
    "s__[\"geolocation\"]"
   ]
  },
  {
   "cell_type": "code",
   "execution_count": 15,
   "id": "197c7c3c-6408-4b9f-b33b-8a0dedfbcd59",
   "metadata": {},
   "outputs": [
    {
     "data": {
      "text/plain": [
       "'used'"
      ]
     },
     "execution_count": 15,
     "metadata": {},
     "output_type": "execute_result"
    }
   ],
   "source": [
    "s__[\"condition\"]"
   ]
  },
  {
   "cell_type": "code",
   "execution_count": 16,
   "id": "1450f1ef-3c67-415d-b040-f5142efe940b",
   "metadata": {},
   "outputs": [
    {
     "data": {
      "text/plain": [
       "{'local_pick_up': True,\n",
       " 'methods': [],\n",
       " 'tags': [],\n",
       " 'free_shipping': False,\n",
       " 'mode': 'me2',\n",
       " 'dimensions': None}"
      ]
     },
     "execution_count": 16,
     "metadata": {},
     "output_type": "execute_result"
    }
   ],
   "source": [
    "s__[\"shipping\"]"
   ]
  },
  {
   "cell_type": "code",
   "execution_count": 17,
   "id": "33ff24a5-3201-4899-b214-f14ad8a77b0d",
   "metadata": {},
   "outputs": [
    {
     "data": {
      "text/plain": [
       "'2015-09-26T18:08:34.000Z'"
      ]
     },
     "execution_count": 17,
     "metadata": {},
     "output_type": "execute_result"
    }
   ],
   "source": [
    "s__[\"last_updated\"]"
   ]
  },
  {
   "cell_type": "code",
   "execution_count": 19,
   "id": "403f6c1c-d476-4616-8abb-bc8ff24884e9",
   "metadata": {},
   "outputs": [],
   "source": [
    "s__[\"official_store_id\"]"
   ]
  },
  {
   "cell_type": "code",
   "execution_count": 20,
   "id": "3aa6609e-4b05-4053-832a-cbc0386d4793",
   "metadata": {},
   "outputs": [
    {
     "data": {
      "text/plain": [
       "'Cuchillo Daga Acero Carbón Casco Yelmo Solingen Con Vaina'"
      ]
     },
     "execution_count": 20,
     "metadata": {},
     "output_type": "execute_result"
    }
   ],
   "source": [
    "s__[\"title\"]"
   ]
  },
  {
   "cell_type": "code",
   "execution_count": 21,
   "id": "fa05741d-cfb0-4905-b2fd-6038f43bccc5",
   "metadata": {},
   "outputs": [
    {
     "data": {
      "text/plain": [
       "1"
      ]
     },
     "execution_count": 21,
     "metadata": {},
     "output_type": "execute_result"
    }
   ],
   "source": [
    "s__[\"initial_quantity\"]"
   ]
  },
  {
   "cell_type": "code",
   "execution_count": 22,
   "id": "d15fe9c3-b745-41bb-977a-cf164b2b7943",
   "metadata": {},
   "outputs": [
    {
     "data": {
      "text/plain": [
       "0"
      ]
     },
     "execution_count": 22,
     "metadata": {},
     "output_type": "execute_result"
    }
   ],
   "source": [
    "s__[\"sold_quantity\"]"
   ]
  },
  {
   "cell_type": "code",
   "execution_count": 23,
   "id": "da492e60-1f59-4181-a6be-18d2c2c248bf",
   "metadata": {},
   "outputs": [
    {
     "data": {
      "text/plain": [
       "'NUESTRA REPUTACION'"
      ]
     },
     "execution_count": 23,
     "metadata": {},
     "output_type": "execute_result"
    }
   ],
   "source": [
    "s__[\"warranty\"]"
   ]
  },
  {
   "cell_type": "code",
   "execution_count": 24,
   "id": "fa3a6db1-40e9-43df-9823-c983afb20895",
   "metadata": {},
   "outputs": [
    {
     "data": {
      "text/plain": [
       "[{'description': 'Transferencia bancaria', 'id': 'MLATB', 'type': 'G'},\n",
       " {'description': 'Efectivo', 'id': 'MLAMO', 'type': 'G'}]"
      ]
     },
     "execution_count": 24,
     "metadata": {},
     "output_type": "execute_result"
    }
   ],
   "source": [
    "s__[\"non_mercado_pago_payment_methods\"]"
   ]
  },
  {
   "cell_type": "code",
   "execution_count": 25,
   "id": "769c42e5-ff2d-46dd-bec6-a86eb8bb5040",
   "metadata": {},
   "outputs": [],
   "source": [
    "s__[\"official_store_id\"]"
   ]
  },
  {
   "cell_type": "code",
   "execution_count": 26,
   "id": "d1ccd597-dd07-48f0-877f-fbccd8268185",
   "metadata": {},
   "outputs": [],
   "source": [
    "s__[\"differential_pricing\"]"
   ]
  },
  {
   "cell_type": "code",
   "execution_count": 27,
   "id": "35d19509-ad9f-4e9c-81a7-34f35e737795",
   "metadata": {},
   "outputs": [
    {
     "data": {
      "text/plain": [
       "True"
      ]
     },
     "execution_count": 27,
     "metadata": {},
     "output_type": "execute_result"
    }
   ],
   "source": [
    "s__[\"accepts_mercadopago\"]"
   ]
  },
  {
   "cell_type": "code",
   "execution_count": null,
   "id": "140958d4-5b75-4578-88e7-c64bcc3c3fd2",
   "metadata": {},
   "outputs": [],
   "source": []
  }
 ],
 "metadata": {
  "kernelspec": {
   "display_name": "Python 3 (ipykernel)",
   "language": "python",
   "name": "python3"
  },
  "language_info": {
   "codemirror_mode": {
    "name": "ipython",
    "version": 3
   },
   "file_extension": ".py",
   "mimetype": "text/x-python",
   "name": "python",
   "nbconvert_exporter": "python",
   "pygments_lexer": "ipython3",
   "version": "3.10.6"
  }
 },
 "nbformat": 4,
 "nbformat_minor": 5
}
